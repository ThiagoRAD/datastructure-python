{
 "cells": [
  {
   "cell_type": "markdown",
   "id": "6b939f8b",
   "metadata": {},
   "source": [
    "# Concepts we will cover here"
   ]
  },
  {
   "cell_type": "code",
   "execution_count": 2,
   "id": "cab8baa7",
   "metadata": {},
   "outputs": [
    {
     "data": {
      "text/plain": [
       "[\"dijkstra's algorithm\", 'graphs', 'queues', 'recursion', 'stacks']"
      ]
     },
     "execution_count": 2,
     "metadata": {},
     "output_type": "execute_result"
    }
   ],
   "source": [
    "concepts = ['queues', 'graphs', 'stacks', 'recursion', 'dijkstra\\'s algorithm']\n",
    "concepts.sort()\n",
    "concepts"
   ]
  },
  {
   "cell_type": "markdown",
   "id": "a68aa721",
   "metadata": {},
   "source": [
    "## Lists"
   ]
  },
  {
   "cell_type": "code",
   "execution_count": null,
   "id": "72a0f9a6",
   "metadata": {},
   "outputs": [
    {
     "name": "stdout",
     "output_type": "stream",
     "text": [
      "Cappuccino\n"
     ]
    }
   ],
   "source": [
    "cafe_menu = ['Coffee', 'Espresso', 'Cappuccino', 'Latte', 'Tea']\n",
    "breakfast_menu = ['Coffee Cake', 'Cinnamon Roll', 'Bagel']\n",
    "\n",
    "cafe_menu.append('Bubble Tea')  \n",
    "print(cafe_menu[2])             "
   ]
  },
  {
   "cell_type": "markdown",
   "id": "11d084a6",
   "metadata": {},
   "source": [
    "## Dictionaries"
   ]
  },
  {
   "cell_type": "code",
   "execution_count": null,
   "id": "d0231215",
   "metadata": {},
   "outputs": [
    {
     "name": "stdout",
     "output_type": "stream",
     "text": [
      "The Song of Achilles\n"
     ]
    }
   ],
   "source": [
    "book = {\n",
    "  'title': 'The Song of Achilles',\n",
    "  'author': 'Madeline Miller',\n",
    "  'genre': 'Historical Fiction',\n",
    "  'year': 2011\n",
    "}\n",
    "\n",
    "print(book['title'])"
   ]
  },
  {
   "cell_type": "markdown",
   "id": "ea6a18df",
   "metadata": {},
   "source": [
    "## Sets"
   ]
  },
  {
   "cell_type": "code",
   "execution_count": 5,
   "id": "6464176b",
   "metadata": {},
   "outputs": [
    {
     "name": "stdout",
     "output_type": "stream",
     "text": [
      "True\n"
     ]
    }
   ],
   "source": [
    "fruits = {'🍎 apple', '🍌 banana', '🍒 cherry'}\n",
    "\n",
    "fruits.add('🍊 orange')         \n",
    "print('🍎 apple' in fruits)     "
   ]
  },
  {
   "cell_type": "markdown",
   "id": "19496537",
   "metadata": {},
   "source": [
    "## Algorithms"
   ]
  },
  {
   "cell_type": "markdown",
   "id": "84e7c498",
   "metadata": {},
   "source": [
    "### Insertion Sort Algorithm"
   ]
  },
  {
   "cell_type": "code",
   "execution_count": null,
   "id": "556067ee",
   "metadata": {},
   "outputs": [
    {
     "name": "stdout",
     "output_type": "stream",
     "text": [
      "[-1, 2, 3, 4, 5, 8, 10, 2]\n"
     ]
    }
   ],
   "source": [
    "# Without knowing how an algorithm works, it is difficult sometimes to implement or find bugs.\n",
    "# Here is an example of Insertion Sort algorithm implemented in Python.\n",
    "# There is a bug in this code, it happens when sorting the last element of the array.\n",
    "def insertion_sort(arr):\n",
    "  for i in range(1, len(arr)-1):  \n",
    "    key = arr[i]  \n",
    "    j = i - 1  \n",
    "  \n",
    "    while j >= 0 and arr[j] > key:\n",
    "      arr[j + 1] = arr[j]\n",
    "      j -= 1\n",
    "       \n",
    "    arr[j + 1] = key  \n",
    "\n",
    "  return arr\n",
    "\n",
    "input_list = [5, -1, 3, 8, 4, 2, 10]\n",
    "output_list = insertion_sort(input_list)\n",
    "print(output_list)\n"
   ]
  },
  {
   "cell_type": "markdown",
   "id": "c81a26bd",
   "metadata": {},
   "source": []
  }
 ],
 "metadata": {
  "kernelspec": {
   "display_name": "Python 3",
   "language": "python",
   "name": "python3"
  },
  "language_info": {
   "codemirror_mode": {
    "name": "ipython",
    "version": 3
   },
   "file_extension": ".py",
   "mimetype": "text/x-python",
   "name": "python",
   "nbconvert_exporter": "python",
   "pygments_lexer": "ipython3",
   "version": "3.13.7"
  }
 },
 "nbformat": 4,
 "nbformat_minor": 5
}

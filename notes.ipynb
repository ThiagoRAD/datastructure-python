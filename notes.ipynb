{
 "cells": [
  {
   "cell_type": "markdown",
   "id": "6b939f8b",
   "metadata": {},
   "source": [
    "# Concepts we will cover here"
   ]
  },
  {
   "cell_type": "code",
   "execution_count": 2,
   "id": "cab8baa7",
   "metadata": {},
   "outputs": [
    {
     "data": {
      "text/plain": [
       "[\"dijkstra's algorithm\", 'graphs', 'queues', 'recursion', 'stacks']"
      ]
     },
     "execution_count": 2,
     "metadata": {},
     "output_type": "execute_result"
    }
   ],
   "source": [
    "concepts = ['queues', 'graphs', 'stacks', 'recursion', 'dijkstra\\'s algorithm']\n",
    "concepts.sort()\n",
    "concepts"
   ]
  },
  {
   "cell_type": "markdown",
   "id": "a68aa721",
   "metadata": {},
   "source": [
    "## Lists"
   ]
  },
  {
   "cell_type": "code",
   "execution_count": null,
   "id": "72a0f9a6",
   "metadata": {},
   "outputs": [
    {
     "name": "stdout",
     "output_type": "stream",
     "text": [
      "Cappuccino\n"
     ]
    }
   ],
   "source": [
    "cafe_menu = ['Coffee', 'Espresso', 'Cappuccino', 'Latte', 'Tea']\n",
    "breakfast_menu = ['Coffee Cake', 'Cinnamon Roll', 'Bagel']\n",
    "\n",
    "cafe_menu.append('Bubble Tea')  \n",
    "print(cafe_menu[2])             "
   ]
  },
  {
   "cell_type": "markdown",
   "id": "11d084a6",
   "metadata": {},
   "source": [
    "## Dictionaries"
   ]
  },
  {
   "cell_type": "code",
   "execution_count": null,
   "id": "d0231215",
   "metadata": {},
   "outputs": [
    {
     "name": "stdout",
     "output_type": "stream",
     "text": [
      "The Song of Achilles\n"
     ]
    }
   ],
   "source": [
    "book = {\n",
    "  'title': 'The Song of Achilles',\n",
    "  'author': 'Madeline Miller',\n",
    "  'genre': 'Historical Fiction',\n",
    "  'year': 2011\n",
    "}\n",
    "\n",
    "print(book['title'])"
   ]
  },
  {
   "cell_type": "markdown",
   "id": "ea6a18df",
   "metadata": {},
   "source": [
    "## Sets"
   ]
  },
  {
   "cell_type": "code",
   "execution_count": 5,
   "id": "6464176b",
   "metadata": {},
   "outputs": [
    {
     "name": "stdout",
     "output_type": "stream",
     "text": [
      "True\n"
     ]
    }
   ],
   "source": [
    "fruits = {'🍎 apple', '🍌 banana', '🍒 cherry'}\n",
    "\n",
    "fruits.add('🍊 orange')         \n",
    "print('🍎 apple' in fruits)     "
   ]
  },
  {
   "cell_type": "markdown",
   "id": "19496537",
   "metadata": {},
   "source": [
    "## Algorithms"
   ]
  },
  {
   "cell_type": "markdown",
   "id": "84e7c498",
   "metadata": {},
   "source": [
    "### Insertion Sort Algorithm"
   ]
  },
  {
   "cell_type": "code",
   "execution_count": null,
   "id": "556067ee",
   "metadata": {},
   "outputs": [
    {
     "name": "stdout",
     "output_type": "stream",
     "text": [
      "[-1, 2, 3, 4, 5, 8, 10, 2]\n"
     ]
    }
   ],
   "source": [
    "# Without knowing how an algorithm works, it is difficult sometimes to implement or find bugs.\n",
    "# Here is an example of Insertion Sort algorithm implemented in Python.\n",
    "# There is a bug in this code, it happens when sorting the last element of the array.\n",
    "def insertion_sort(arr):\n",
    "  for i in range(1, len(arr)-1):  \n",
    "    key = arr[i]  \n",
    "    j = i - 1  \n",
    "  \n",
    "    while j >= 0 and arr[j] > key:\n",
    "      arr[j + 1] = arr[j]\n",
    "      j -= 1\n",
    "       \n",
    "    arr[j + 1] = key  \n",
    "\n",
    "  return arr\n",
    "\n",
    "input_list = [5, -1, 3, 8, 4, 2, 10]\n",
    "output_list = insertion_sort(input_list)\n",
    "print(output_list)\n"
   ]
  },
  {
   "cell_type": "markdown",
   "id": "85053e10",
   "metadata": {},
   "source": [
    "### Algorithmic Efficiency"
   ]
  },
  {
   "cell_type": "code",
   "execution_count": 18,
   "id": "c81a26bd",
   "metadata": {},
   "outputs": [
    {
     "name": "stdout",
     "output_type": "stream",
     "text": [
      "Your secret number is 4187\n",
      "Found 4187 in 4187 guesses using linear search.\n",
      "Found 4187 in 17 guesses using binary search.\n"
     ]
    },
    {
     "data": {
      "text/plain": [
       "4186"
      ]
     },
     "execution_count": 18,
     "metadata": {},
     "output_type": "execute_result"
    }
   ],
   "source": [
    "import random\n",
    "\n",
    "# Algorithm 1\n",
    "def linear_search(arr, target):\n",
    "    guesses = 0\n",
    "    for i in range(len(arr)):\n",
    "        guesses += 1  # Counting each guess\n",
    "        if arr[i] == target:\n",
    "            print(f\"Found {target} in {guesses} guesses using linear search.\")\n",
    "            return i\n",
    "    print(f\"{target} not found after {guesses} guesses using linear search.\")\n",
    "    return -1\n",
    "\n",
    "# Algorithm 2\n",
    "def binary_search(arr, target):\n",
    "    left, right = 0, len(arr) - 1\n",
    "    guesses = 0  # Counting guesses\n",
    "\n",
    "    while left <= right:\n",
    "        guesses += 1\n",
    "        mid = (left + right) // 2\n",
    "\n",
    "        if arr[mid] == target:\n",
    "            print(f\"Found {target} in {guesses} guesses using binary search.\")\n",
    "            return mid\n",
    "        elif arr[mid] < target:\n",
    "            left = mid + 1\n",
    "        else:\n",
    "            right = mid - 1\n",
    "\n",
    "    print(f\"{target} not found after {guesses} guesses using binary search.\")\n",
    "    return -1\n",
    "\n",
    "# Change these values\n",
    "range_low = 1\n",
    "range_high = 100000\n",
    "\n",
    "numbers = [i for i in range(range_low, range_high + 1)]\n",
    "random_num = random.randint(range_low, range_high)\n",
    "\n",
    "print(f\"Your secret number is {random_num}\")\n",
    "\n",
    "linear_search(numbers, random_num)\n",
    "binary_search(numbers, random_num)\n"
   ]
  },
  {
   "cell_type": "markdown",
   "id": "b459774a",
   "metadata": {},
   "source": [
    "- Binary search is way more performatic, but of course, it needs the list to be sorted previously"
   ]
  },
  {
   "cell_type": "markdown",
   "id": "9db6287e",
   "metadata": {},
   "source": [
    "### Recap about \n",
    "\n",
    "Lists are created using square brackets [ and ]. And the items are separated by , commas."
   ]
  },
  {
   "cell_type": "code",
   "execution_count": 1,
   "id": "4766cff7",
   "metadata": {},
   "outputs": [
    {
     "data": {
      "text/plain": [
       "['🥚 Eggs',\n",
       " '🥑 Avocados',\n",
       " '🍪 Cookies',\n",
       " '🌶 Hot Pepper Jam',\n",
       " '🫐 Blueberries',\n",
       " '🥦 Broccoli']"
      ]
     },
     "execution_count": 1,
     "metadata": {},
     "output_type": "execute_result"
    }
   ],
   "source": [
    "grocery = ['🥚 Eggs', \n",
    "           '🥑 Avocados', \n",
    "           '🍪 Cookies', \n",
    "           '🌶 Hot Pepper Jam', \n",
    "           '🫐 Blueberries', \n",
    "           '🥦 Broccoli']\n",
    "grocery"
   ]
  },
  {
   "cell_type": "markdown",
   "id": "330f8f9c",
   "metadata": {},
   "source": [
    "An index is an item's position in a list. In Python, indices start at 0:"
   ]
  },
  {
   "cell_type": "code",
   "execution_count": 2,
   "id": "2493f932",
   "metadata": {},
   "outputs": [
    {
     "name": "stdout",
     "output_type": "stream",
     "text": [
      "🥚 Eggs\n",
      "🥑 Avocados\n",
      "🍪 Cookies\n",
      "🌶 Hot Pepper Jam\n",
      "🫐 Blueberries\n",
      "🥦 Broccoli\n"
     ]
    }
   ],
   "source": [
    "print(grocery[0])     # Output: 🥚 Eggs\n",
    "print(grocery[1])     # Output: 🥑 Avocados\n",
    "print(grocery[2])     # Output: 🍪 Cookies \n",
    "print(grocery[3])     # Output: 🌶 Hot Pepper Jam\n",
    "print(grocery[4])     # Output: 🫐 Blueberries\n",
    "print(grocery[5])     # Output: 🥦 Broccoli"
   ]
  },
  {
   "cell_type": "markdown",
   "id": "28239bf7",
   "metadata": {},
   "source": [
    "We can retrieve a segment of a list using slicing.\n",
    "\n",
    "Rather than using name[index], we can use name[start:end]. This will return the values in the list between the indices start (inclusive) and end (exclusive)"
   ]
  },
  {
   "cell_type": "code",
   "execution_count": 3,
   "id": "59f43a36",
   "metadata": {},
   "outputs": [
    {
     "name": "stdout",
     "output_type": "stream",
     "text": [
      "['Taurus', 'Gemini', 'Cancer']\n"
     ]
    }
   ],
   "source": [
    "signs = ['Aries', 'Taurus', 'Gemini', 'Cancer', 'Leo', 'Virgo', 'Libra', 'Scorpio', 'Sagittarius', 'Capricorn', 'Aquarius', 'Pisces']\n",
    "\n",
    "print(signs[1:4])     # Output: ['Taurus', 'Gemini', 'Cancer']"
   ]
  },
  {
   "cell_type": "markdown",
   "id": "556d98fe",
   "metadata": {},
   "source": [
    "Now that we have a list created, let's look at some of the list methods that we can use:\n",
    "\n",
    "- .append() adds an item to the end of the list.\n",
    "- .insert() adds an item to a specific index.\n",
    "- .pop() removes an item from a specific index. If no index is provided, it removes the last item.\n",
    "\n",
    "We can get the length of the list by using len() function"
   ]
  },
  {
   "cell_type": "code",
   "execution_count": 4,
   "id": "fc379879",
   "metadata": {},
   "outputs": [
    {
     "name": "stdout",
     "output_type": "stream",
     "text": [
      "4\n"
     ]
    }
   ],
   "source": [
    "to_do = ['🧺 Put on laundry', '🌳 Take a walk', '🍵 Make some tea']\n",
    "\n",
    "to_do.append('💻 Complete DSA chapter 2')\n",
    "to_do.insert(2, '💖 FaceTime mom')\n",
    "to_do.pop(4)\n",
    "\n",
    "print(len(to_do))    # Output: 4"
   ]
  },
  {
   "cell_type": "markdown",
   "id": "7f7f94ac",
   "metadata": {},
   "source": [
    "### Linear Search\n",
    "\n",
    "- Start at the first item in the list.\n",
    "- Compare it to the target email.\n",
    "- If they match, return True. We found it! 🥳\n",
    "- If not, keep checking until we reach the end of the list.\n",
    "- If we got to the end of the list and never found the email, return False."
   ]
  },
  {
   "cell_type": "code",
   "execution_count": 5,
   "id": "240a242d",
   "metadata": {},
   "outputs": [],
   "source": [
    "# Pseudocode for linear search:\n",
    "#\n",
    "# Linear search function with inputs of email list and target:\n",
    "#  Loop through every item in email list:\n",
    "#    if the item is our target:\n",
    "#      return True\n",
    "#  if we finish looping and never found it, return False"
   ]
  },
  {
   "cell_type": "code",
   "execution_count": 6,
   "id": "3c1eb5df",
   "metadata": {},
   "outputs": [],
   "source": [
    "def linear_search(input_list, target_value): \n",
    "\n",
    "  for item in input_list: \n",
    "    if item == target_value: \n",
    "      return True \n",
    "\n",
    "  return False"
   ]
  },
  {
   "cell_type": "code",
   "execution_count": null,
   "id": "dbbc3780",
   "metadata": {},
   "outputs": [
    {
     "name": "stdout",
     "output_type": "stream",
     "text": [
      "True\n",
      "False\n"
     ]
    }
   ],
   "source": [
    "balls = ['🏀', '⚾️', '🎾', '⚽️', '🏐', '🏈']\n",
    "\n",
    "print(linear_search(balls, '🏈'))\n",
    "print(linear_search(balls, '🥎'))"
   ]
  },
  {
   "cell_type": "code",
   "execution_count": null,
   "id": "325da1fe",
   "metadata": {},
   "outputs": [],
   "source": []
  }
 ],
 "metadata": {
  "kernelspec": {
   "display_name": "Python 3",
   "language": "python",
   "name": "python3"
  },
  "language_info": {
   "codemirror_mode": {
    "name": "ipython",
    "version": 3
   },
   "file_extension": ".py",
   "mimetype": "text/x-python",
   "name": "python",
   "nbconvert_exporter": "python",
   "pygments_lexer": "ipython3",
   "version": "3.13.7"
  }
 },
 "nbformat": 4,
 "nbformat_minor": 5
}

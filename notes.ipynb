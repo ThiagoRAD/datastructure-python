{
 "cells": [
  {
   "cell_type": "markdown",
   "id": "6b939f8b",
   "metadata": {},
   "source": [
    "# Concepts we will cover here"
   ]
  },
  {
   "cell_type": "code",
   "execution_count": 2,
   "id": "cab8baa7",
   "metadata": {},
   "outputs": [
    {
     "data": {
      "text/plain": [
       "[\"dijkstra's algorithm\", 'graphs', 'queues', 'recursion', 'stacks']"
      ]
     },
     "execution_count": 2,
     "metadata": {},
     "output_type": "execute_result"
    }
   ],
   "source": [
    "concepts = ['queues', 'graphs', 'stacks', 'recursion', 'dijkstra\\'s algorithm']\n",
    "concepts.sort()\n",
    "concepts"
   ]
  },
  {
   "cell_type": "markdown",
   "id": "a68aa721",
   "metadata": {},
   "source": [
    "## Lists"
   ]
  },
  {
   "cell_type": "code",
   "execution_count": null,
   "id": "72a0f9a6",
   "metadata": {},
   "outputs": [
    {
     "name": "stdout",
     "output_type": "stream",
     "text": [
      "Cappuccino\n"
     ]
    }
   ],
   "source": [
    "cafe_menu = ['Coffee', 'Espresso', 'Cappuccino', 'Latte', 'Tea']\n",
    "breakfast_menu = ['Coffee Cake', 'Cinnamon Roll', 'Bagel']\n",
    "\n",
    "cafe_menu.append('Bubble Tea')  \n",
    "print(cafe_menu[2])             "
   ]
  },
  {
   "cell_type": "markdown",
   "id": "11d084a6",
   "metadata": {},
   "source": [
    "## Dictionaries"
   ]
  },
  {
   "cell_type": "code",
   "execution_count": null,
   "id": "d0231215",
   "metadata": {},
   "outputs": [
    {
     "name": "stdout",
     "output_type": "stream",
     "text": [
      "The Song of Achilles\n"
     ]
    }
   ],
   "source": [
    "book = {\n",
    "  'title': 'The Song of Achilles',\n",
    "  'author': 'Madeline Miller',\n",
    "  'genre': 'Historical Fiction',\n",
    "  'year': 2011\n",
    "}\n",
    "\n",
    "print(book['title'])"
   ]
  },
  {
   "cell_type": "code",
   "execution_count": null,
   "id": "6464176b",
   "metadata": {},
   "outputs": [],
   "source": []
  }
 ],
 "metadata": {
  "kernelspec": {
   "display_name": "Python 3",
   "language": "python",
   "name": "python3"
  },
  "language_info": {
   "codemirror_mode": {
    "name": "ipython",
    "version": 3
   },
   "file_extension": ".py",
   "mimetype": "text/x-python",
   "name": "python",
   "nbconvert_exporter": "python",
   "pygments_lexer": "ipython3",
   "version": "3.13.7"
  }
 },
 "nbformat": 4,
 "nbformat_minor": 5
}

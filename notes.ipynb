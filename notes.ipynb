{
 "cells": [
  {
   "cell_type": "markdown",
   "id": "6b939f8b",
   "metadata": {},
   "source": [
    "# Concepts we will cover here"
   ]
  },
  {
   "cell_type": "code",
   "execution_count": 1,
   "id": "cab8baa7",
   "metadata": {},
   "outputs": [
    {
     "data": {
      "text/plain": [
       "[\"dijkstra's algorithm\", 'graphs', 'queues', 'recursion', 'stacks']"
      ]
     },
     "execution_count": 1,
     "metadata": {},
     "output_type": "execute_result"
    }
   ],
   "source": [
    "concepts = ['queues', 'graphs', 'stacks', 'recursion', 'dijkstra\\'s algorithm']\n",
    "concepts.sort()\n",
    "concepts"
   ]
  },
  {
   "cell_type": "markdown",
   "id": "a68aa721",
   "metadata": {},
   "source": [
    "## Lists"
   ]
  },
  {
   "cell_type": "code",
   "execution_count": 2,
   "id": "72a0f9a6",
   "metadata": {},
   "outputs": [
    {
     "name": "stdout",
     "output_type": "stream",
     "text": [
      "Cappuccino\n"
     ]
    }
   ],
   "source": [
    "cafe_menu = ['Coffee', 'Espresso', 'Cappuccino', 'Latte', 'Tea']\n",
    "breakfast_menu = ['Coffee Cake', 'Cinnamon Roll', 'Bagel']\n",
    "\n",
    "cafe_menu.append('Bubble Tea')  \n",
    "print(cafe_menu[2])             "
   ]
  },
  {
   "cell_type": "markdown",
   "id": "11d084a6",
   "metadata": {},
   "source": [
    "## Dictionaries"
   ]
  },
  {
   "cell_type": "code",
   "execution_count": 3,
   "id": "d0231215",
   "metadata": {},
   "outputs": [
    {
     "name": "stdout",
     "output_type": "stream",
     "text": [
      "The Song of Achilles\n"
     ]
    }
   ],
   "source": [
    "book = {\n",
    "  'title': 'The Song of Achilles',\n",
    "  'author': 'Madeline Miller',\n",
    "  'genre': 'Historical Fiction',\n",
    "  'year': 2011\n",
    "}\n",
    "\n",
    "print(book['title'])"
   ]
  },
  {
   "cell_type": "markdown",
   "id": "ea6a18df",
   "metadata": {},
   "source": [
    "## Sets"
   ]
  },
  {
   "cell_type": "code",
   "execution_count": 4,
   "id": "6464176b",
   "metadata": {},
   "outputs": [
    {
     "name": "stdout",
     "output_type": "stream",
     "text": [
      "True\n"
     ]
    }
   ],
   "source": [
    "fruits = {'🍎 apple', '🍌 banana', '🍒 cherry'}\n",
    "\n",
    "fruits.add('🍊 orange')         \n",
    "print('🍎 apple' in fruits)     "
   ]
  },
  {
   "cell_type": "markdown",
   "id": "19496537",
   "metadata": {},
   "source": [
    "## Algorithms"
   ]
  },
  {
   "cell_type": "markdown",
   "id": "84e7c498",
   "metadata": {},
   "source": [
    "### Insertion Sort Algorithm"
   ]
  },
  {
   "cell_type": "code",
   "execution_count": 5,
   "id": "556067ee",
   "metadata": {},
   "outputs": [
    {
     "name": "stdout",
     "output_type": "stream",
     "text": [
      "[-1, 2, 3, 4, 5, 8, 10]\n"
     ]
    }
   ],
   "source": [
    "# Without knowing how an algorithm works, it is difficult sometimes to implement or find bugs.\n",
    "# Here is an example of Insertion Sort algorithm implemented in Python.\n",
    "# There is a bug in this code, it happens when sorting the last element of the array.\n",
    "def insertion_sort(arr):\n",
    "  for i in range(1, len(arr)-1):  \n",
    "    key = arr[i]  \n",
    "    j = i - 1  \n",
    "  \n",
    "    while j >= 0 and arr[j] > key:\n",
    "      arr[j + 1] = arr[j]\n",
    "      j -= 1\n",
    "       \n",
    "    arr[j + 1] = key  \n",
    "\n",
    "  return arr\n",
    "\n",
    "input_list = [5, -1, 3, 8, 4, 2, 10]\n",
    "output_list = insertion_sort(input_list)\n",
    "print(output_list)\n"
   ]
  },
  {
   "cell_type": "markdown",
   "id": "85053e10",
   "metadata": {},
   "source": [
    "### Algorithmic Efficiency"
   ]
  },
  {
   "cell_type": "code",
   "execution_count": 6,
   "id": "c81a26bd",
   "metadata": {},
   "outputs": [
    {
     "name": "stdout",
     "output_type": "stream",
     "text": [
      "Your secret number is 12615\n",
      "Found 12615 in 12615 guesses using linear search.\n",
      "Found 12615 in 14 guesses using binary search.\n"
     ]
    },
    {
     "data": {
      "text/plain": [
       "12614"
      ]
     },
     "execution_count": 6,
     "metadata": {},
     "output_type": "execute_result"
    }
   ],
   "source": [
    "import random\n",
    "\n",
    "# Algorithm 1\n",
    "def linear_search(arr, target):\n",
    "    guesses = 0\n",
    "    for i in range(len(arr)):\n",
    "        guesses += 1  # Counting each guess\n",
    "        if arr[i] == target:\n",
    "            print(f\"Found {target} in {guesses} guesses using linear search.\")\n",
    "            return i\n",
    "    print(f\"{target} not found after {guesses} guesses using linear search.\")\n",
    "    return -1\n",
    "\n",
    "# Algorithm 2\n",
    "def binary_search(arr, target):\n",
    "    left, right = 0, len(arr) - 1\n",
    "    guesses = 0  # Counting guesses\n",
    "\n",
    "    while left <= right:\n",
    "        guesses += 1\n",
    "        mid = (left + right) // 2\n",
    "\n",
    "        if arr[mid] == target:\n",
    "            print(f\"Found {target} in {guesses} guesses using binary search.\")\n",
    "            return mid\n",
    "        elif arr[mid] < target:\n",
    "            left = mid + 1\n",
    "        else:\n",
    "            right = mid - 1\n",
    "\n",
    "    print(f\"{target} not found after {guesses} guesses using binary search.\")\n",
    "    return -1\n",
    "\n",
    "# Change these values\n",
    "range_low = 1\n",
    "range_high = 100000\n",
    "\n",
    "numbers = [i for i in range(range_low, range_high + 1)]\n",
    "random_num = random.randint(range_low, range_high)\n",
    "\n",
    "print(f\"Your secret number is {random_num}\")\n",
    "\n",
    "linear_search(numbers, random_num)\n",
    "binary_search(numbers, random_num)\n"
   ]
  },
  {
   "cell_type": "markdown",
   "id": "b459774a",
   "metadata": {},
   "source": [
    "- Binary search is way more performatic, but of course, it needs the list to be sorted previously"
   ]
  },
  {
   "cell_type": "markdown",
   "id": "9db6287e",
   "metadata": {},
   "source": [
    "### Recap about \n",
    "\n",
    "Lists are created using square brackets [ and ]. And the items are separated by , commas."
   ]
  },
  {
   "cell_type": "code",
   "execution_count": 7,
   "id": "4766cff7",
   "metadata": {},
   "outputs": [
    {
     "data": {
      "text/plain": [
       "['🥚 Eggs',\n",
       " '🥑 Avocados',\n",
       " '🍪 Cookies',\n",
       " '🌶 Hot Pepper Jam',\n",
       " '🫐 Blueberries',\n",
       " '🥦 Broccoli']"
      ]
     },
     "execution_count": 7,
     "metadata": {},
     "output_type": "execute_result"
    }
   ],
   "source": [
    "grocery = ['🥚 Eggs', \n",
    "           '🥑 Avocados', \n",
    "           '🍪 Cookies', \n",
    "           '🌶 Hot Pepper Jam', \n",
    "           '🫐 Blueberries', \n",
    "           '🥦 Broccoli']\n",
    "grocery"
   ]
  },
  {
   "cell_type": "markdown",
   "id": "330f8f9c",
   "metadata": {},
   "source": [
    "An index is an item's position in a list. In Python, indices start at 0:"
   ]
  },
  {
   "cell_type": "code",
   "execution_count": 8,
   "id": "2493f932",
   "metadata": {},
   "outputs": [
    {
     "name": "stdout",
     "output_type": "stream",
     "text": [
      "🥚 Eggs\n",
      "🥑 Avocados\n",
      "🍪 Cookies\n",
      "🌶 Hot Pepper Jam\n",
      "🫐 Blueberries\n",
      "🥦 Broccoli\n"
     ]
    }
   ],
   "source": [
    "print(grocery[0])     # Output: 🥚 Eggs\n",
    "print(grocery[1])     # Output: 🥑 Avocados\n",
    "print(grocery[2])     # Output: 🍪 Cookies \n",
    "print(grocery[3])     # Output: 🌶 Hot Pepper Jam\n",
    "print(grocery[4])     # Output: 🫐 Blueberries\n",
    "print(grocery[5])     # Output: 🥦 Broccoli"
   ]
  },
  {
   "cell_type": "markdown",
   "id": "28239bf7",
   "metadata": {},
   "source": [
    "We can retrieve a segment of a list using slicing.\n",
    "\n",
    "Rather than using name[index], we can use name[start:end]. This will return the values in the list between the indices start (inclusive) and end (exclusive)"
   ]
  },
  {
   "cell_type": "code",
   "execution_count": 9,
   "id": "59f43a36",
   "metadata": {},
   "outputs": [
    {
     "name": "stdout",
     "output_type": "stream",
     "text": [
      "['Taurus', 'Gemini', 'Cancer']\n"
     ]
    }
   ],
   "source": [
    "signs = ['Aries', 'Taurus', 'Gemini', 'Cancer', 'Leo', 'Virgo', 'Libra', 'Scorpio', 'Sagittarius', 'Capricorn', 'Aquarius', 'Pisces']\n",
    "\n",
    "print(signs[1:4])     # Output: ['Taurus', 'Gemini', 'Cancer']"
   ]
  },
  {
   "cell_type": "markdown",
   "id": "556d98fe",
   "metadata": {},
   "source": [
    "Now that we have a list created, let's look at some of the list methods that we can use:\n",
    "\n",
    "- .append() adds an item to the end of the list.\n",
    "- .insert() adds an item to a specific index.\n",
    "- .pop() removes an item from a specific index. If no index is provided, it removes the last item.\n",
    "\n",
    "We can get the length of the list by using len() function"
   ]
  },
  {
   "cell_type": "code",
   "execution_count": 10,
   "id": "fc379879",
   "metadata": {},
   "outputs": [
    {
     "name": "stdout",
     "output_type": "stream",
     "text": [
      "4\n"
     ]
    }
   ],
   "source": [
    "to_do = ['🧺 Put on laundry', '🌳 Take a walk', '🍵 Make some tea']\n",
    "\n",
    "to_do.append('💻 Complete DSA chapter 2')\n",
    "to_do.insert(2, '💖 FaceTime mom')\n",
    "to_do.pop(4)\n",
    "\n",
    "print(len(to_do))    # Output: 4"
   ]
  },
  {
   "cell_type": "markdown",
   "id": "7f7f94ac",
   "metadata": {},
   "source": [
    "### Linear Search\n",
    "\n",
    "- Start at the first item in the list.\n",
    "- Compare it to the target email.\n",
    "- If they match, return True. We found it! 🥳\n",
    "- If not, keep checking until we reach the end of the list.\n",
    "- If we got to the end of the list and never found the email, return False."
   ]
  },
  {
   "cell_type": "code",
   "execution_count": 11,
   "id": "240a242d",
   "metadata": {},
   "outputs": [],
   "source": [
    "# Pseudocode for linear search:\n",
    "#\n",
    "# Linear search function with inputs of email list and target:\n",
    "#  Loop through every item in email list:\n",
    "#    if the item is our target:\n",
    "#      return True\n",
    "#  if we finish looping and never found it, return False"
   ]
  },
  {
   "cell_type": "code",
   "execution_count": 12,
   "id": "3c1eb5df",
   "metadata": {},
   "outputs": [],
   "source": [
    "def linear_search(input_list, target_value): \n",
    "\n",
    "  for item in input_list: \n",
    "    if item == target_value: \n",
    "      return True \n",
    "\n",
    "  return False"
   ]
  },
  {
   "cell_type": "code",
   "execution_count": 13,
   "id": "dbbc3780",
   "metadata": {},
   "outputs": [
    {
     "name": "stdout",
     "output_type": "stream",
     "text": [
      "True\n",
      "False\n"
     ]
    }
   ],
   "source": [
    "balls = ['🏀', '⚾️', '🎾', '⚽️', '🏐', '🏈']\n",
    "\n",
    "print(linear_search(balls, '🏈'))\n",
    "print(linear_search(balls, '🥎'))"
   ]
  },
  {
   "cell_type": "code",
   "execution_count": 14,
   "id": "325da1fe",
   "metadata": {},
   "outputs": [
    {
     "name": "stdout",
     "output_type": "stream",
     "text": [
      "True\n",
      "False\n"
     ]
    }
   ],
   "source": [
    "email_list = [\n",
    "  'dwight.schrute@dundermifflin.com', \n",
    "  'michael.scott@dundermifflin.com',\n",
    "  'mgoodyear@lumonindustries.com',\n",
    "  'walter.white@jpwynnehigh.edu',\n",
    "  'hank@dea.gov',\n",
    "  'kimberly.finkle@essexu.edu',\n",
    "  'sheldon@caltech.edu',\n",
    "  'elliot@allsafe.com',\n",
    "  'mr.robot@fsociety.com',\n",
    "  'mulder@fbi.gov',\n",
    "  'carrie@sexandthecity.tvs',\n",
    "  'pleasecallmebarney@yahoo.com',\n",
    "  'buffy@sunnydale.edu'\n",
    "]\n",
    "\n",
    "print(linear_search(email_list, 'mgoodyear@lumonindustries.com'))\n",
    "print(linear_search(email_list, 'mark.scout@lumonindustries.com'))"
   ]
  },
  {
   "cell_type": "markdown",
   "id": "511937d9",
   "metadata": {},
   "source": [
    "### Binary Search"
   ]
  },
  {
   "cell_type": "code",
   "execution_count": 15,
   "id": "1dba94a3",
   "metadata": {},
   "outputs": [],
   "source": [
    "# Pseudocode for binary search:\n",
    "#\n",
    "# Binary search takes a sorted list and a target value as input\n",
    "#  if the number in the middle of the list is the target\n",
    "#    return True, we're done!\n",
    "#  if the number in the middle of the list is higher than the target\n",
    "#    perform binary search again, but only on the lower half of the list\n",
    "#  if the number in the middle of the list is lower than the target\n",
    "#    perform binary search again, but only on the upper half of the list\n",
    "#  if there are no items in the list, return False\n",
    "#\n",
    "#  Set \"left\" to the first index (0) and \"right\" to the last index of the list.\n",
    "#  Repeat the following steps while left is less than or equal to right:\n",
    "#    Calculate the mid index as the average of left and right.\n",
    "#    if the number in the middle of the list is the target:\n",
    "#      return True, we're done!\n",
    "#    if the number in the middle is less than the target:\n",
    "#      move left to mid + 1 (search the right half)\n",
    "#    if the number in the middle is greater than the target:\n",
    "#      move right to mid - 1 (search the left half)\n",
    "#  if the loop ends without finding the target, return False"
   ]
  },
  {
   "cell_type": "code",
   "execution_count": 16,
   "id": "69dcd49a",
   "metadata": {},
   "outputs": [
    {
     "name": "stdout",
     "output_type": "stream",
     "text": [
      "True\n",
      "False\n",
      "False\n"
     ]
    }
   ],
   "source": [
    "def binary_search(input_list, target):\n",
    "  # If the list is empty, return False\n",
    "  if not input_list:\n",
    "    return False  \n",
    " \n",
    "  mid = len(input_list) // 2 # Finds the middle index of the list\n",
    "\n",
    "  # Code to check to see if the middle element equals the target 💖\n",
    "  if input_list[mid] == target:\n",
    "    return True\n",
    "\n",
    "  # If the target is less than the middle element, search the left half of the list\n",
    "  if  target < input_list[mid]:\n",
    "    return binary_search(input_list[:mid], target)\n",
    "\n",
    "  # Code to check to see if the target is greater than the middle element 💖\n",
    "  if target > input_list[mid]:\n",
    "    return binary_search(input_list[mid + 1:], target)\n",
    "  return False\n",
    "# ------------- TESTING YOUR ALGORITHM -----------------\n",
    "email_list = [\n",
    "  'dwight.schrute@dundermifflin.com', \n",
    "  'michael.scott@dundermifflin.com',\n",
    "  'mochi@codedex.io',\n",
    "  'mgoodyear@lumonindustries.com',\n",
    "  'walter.white@jpwynnehigh.edu',\n",
    "  'hank@dea.gov',\n",
    "  'kimberly.finkle@essexu.edu',\n",
    "  'sheldon@caltech.edu',\n",
    "  'elliot@allsafe.com',\n",
    "  'mr.robot@fsociety.com',\n",
    "  'mulder@fbi.gov',\n",
    "  'carrie@sexandthecity.tvs',\n",
    "  'pleasecallmebarney@yahoo.com',\n",
    "  'buffy@sunnydale.edu'\n",
    "]\n",
    "\n",
    "print(binary_search(email_list, 'mgoodyear@lumonindustries.com'))   # Output: True\n",
    "print(binary_search(email_list, 'mark.scout@lumonindustries.com'))  # Output: False\n",
    "\n",
    "# Checking an edge case - what if our input list is empty?\n",
    "\n",
    "empty_list = []\n",
    "print(binary_search(empty_list, 'dwight@dundermifflin.com'))        # Output: False"
   ]
  },
  {
   "cell_type": "markdown",
   "id": "6f8df2e4",
   "metadata": {},
   "source": [
    "### Selection Sort"
   ]
  },
  {
   "cell_type": "markdown",
   "id": "62cdf491",
   "metadata": {},
   "source": [
    "- Find the lowest card in the row and move it to the front.\n",
    "- Find the next lowest card and place it right after the first.\n",
    "- Keep repeating this process until the entire row is sorted."
   ]
  },
  {
   "cell_type": "code",
   "execution_count": 17,
   "id": "be298cc8",
   "metadata": {},
   "outputs": [],
   "source": [
    "def swap(list, index1, index2):\n",
    "  [list[index1], list[index2]] = [list[index2], list[index1]]\n",
    "  return list\n",
    "  \n"
   ]
  },
  {
   "cell_type": "code",
   "execution_count": 18,
   "id": "32cf4b3d",
   "metadata": {},
   "outputs": [
    {
     "name": "stdout",
     "output_type": "stream",
     "text": [
      "[2, 15, 4, 8]\n"
     ]
    }
   ],
   "source": [
    "my_list = [8, 15, 4, 2]\n",
    "my_list = swap(my_list, 3, 0) \n",
    "print(my_list) "
   ]
  },
  {
   "cell_type": "code",
   "execution_count": 19,
   "id": "73c207b3",
   "metadata": {},
   "outputs": [],
   "source": [
    "def selection_sort(input_list):\n",
    "  n = len(input_list)\n",
    "  \n",
    "  for i in range(n):\n",
    "    min_index = i\n",
    "    \n",
    "    for j in range(i + 1, n):\n",
    "      if input_list[j] < input_list[min_index]:\n",
    "        min_index = j\n",
    "    \n",
    "    input_list = swap(input_list, i, min_index)\n",
    "  \n",
    "  return input_list"
   ]
  },
  {
   "cell_type": "code",
   "execution_count": 20,
   "id": "642ea794",
   "metadata": {},
   "outputs": [
    {
     "data": {
      "text/plain": [
       "[10, 13, 14, 29, 37]"
      ]
     },
     "execution_count": 20,
     "metadata": {},
     "output_type": "execute_result"
    }
   ],
   "source": [
    "selection_sort([29, 10, 14, 37, 13])"
   ]
  },
  {
   "cell_type": "code",
   "execution_count": 21,
   "id": "1d5f39ff",
   "metadata": {},
   "outputs": [
    {
     "name": "stdout",
     "output_type": "stream",
     "text": [
      "\n",
      "---------- SELECTION SORT ----------------\n",
      "Selection Sort did 499500 comparisons\n",
      "\n",
      "---------- BUBBLE SORT ----------------\n",
      "Bubble Sort did 499500 comparisons\n",
      "\n",
      "---------- INSERTION SORT ----------------\n",
      "Insertion Sort did 244128 comparisons\n"
     ]
    }
   ],
   "source": [
    "import random\n",
    "\n",
    "# Generating a random list of 10 numbers\n",
    "random_numbers = [random.randint(1, 1000) for _ in range(1000)]\n",
    "\n",
    "def selection_sort(input_list):\n",
    "  count = 0\n",
    "  for i in range(len(input_list)):  \n",
    "    # Assume the first unsorted element is the smallest\n",
    "    min_index = i\n",
    "    for j in range(i+1, len(input_list)):\n",
    "      count += 1\n",
    "      if input_list[j] < input_list[min_index]:  \n",
    "        min_index = j  \n",
    "       \n",
    "    # Swap the found minimum element with the first unsorted element\n",
    "    input_list[i], input_list[min_index] = input_list[min_index], input_list[i]\n",
    "   \n",
    "  print(f\"Selection Sort did {count} comparisons\")\n",
    " \n",
    "def bubble_sort(input_list):\n",
    "  n = len(input_list)\n",
    "  count = 0  \n",
    "  for i in range(n):  \n",
    "    # Last i elements are already sorted, so we don't check them\n",
    "    for j in range(n - 1 - i):  \n",
    "      count += 1\n",
    "      if input_list[j] > input_list[j + 1]:  \n",
    "        # Swap elements if they are in the wrong order\n",
    "        input_list[j], input_list[j + 1] = input_list[j + 1], input_list[j]\n",
    "       \n",
    "  print(f\"Bubble Sort did {count} comparisons\")\n",
    " \n",
    "def insertion_sort(input_list):\n",
    "  count = 0\n",
    "  for i in range(1, len(input_list)):  \n",
    "    key = input_list[i]  \n",
    "    j = i - 1\n",
    "       \n",
    "    # Move elements that are greater than 'key' one position ahead\n",
    "    while j >= 0 and input_list[j] > key:\n",
    "      count += 1\n",
    "      input_list[j + 1] = input_list[j]\n",
    "      j -= 1\n",
    "       \n",
    "    input_list[j + 1] = key  # Insert 'key' at the correct position\n",
    "   \n",
    "  print(f\"Insertion Sort did {count} comparisons\")\n",
    "\n",
    "print('\\n---------- SELECTION SORT ----------------')\n",
    "selection_sort(random_numbers.copy())\n",
    "\n",
    "print('\\n---------- BUBBLE SORT ----------------')\n",
    "bubble_sort(random_numbers.copy())\n",
    "\n",
    "print('\\n---------- INSERTION SORT ----------------')\n",
    "insertion_sort(random_numbers.copy())"
   ]
  }
 ],
 "metadata": {
  "kernelspec": {
   "display_name": "Python 3",
   "language": "python",
   "name": "python3"
  },
  "language_info": {
   "codemirror_mode": {
    "name": "ipython",
    "version": 3
   },
   "file_extension": ".py",
   "mimetype": "text/x-python",
   "name": "python",
   "nbconvert_exporter": "python",
   "pygments_lexer": "ipython3",
   "version": "3.13.7"
  }
 },
 "nbformat": 4,
 "nbformat_minor": 5
}
